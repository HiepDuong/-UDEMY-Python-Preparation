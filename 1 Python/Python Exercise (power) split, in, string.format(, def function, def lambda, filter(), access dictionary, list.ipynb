{
 "cells": [
  {
   "cell_type": "code",
   "execution_count": 2,
   "id": "dae3f67f",
   "metadata": {},
   "outputs": [
    {
     "data": {
      "text/plain": [
       "2401"
      ]
     },
     "execution_count": 2,
     "metadata": {},
     "output_type": "execute_result"
    }
   ],
   "source": [
    "#7 power of 4\n",
    "7**4"
   ]
  },
  {
   "cell_type": "code",
   "execution_count": 3,
   "id": "cea98c49",
   "metadata": {},
   "outputs": [],
   "source": [
    "#Split this string\n",
    "s = \"Hi there Sam!\"\n",
    "list12 = s.split()"
   ]
  },
  {
   "cell_type": "code",
   "execution_count": 4,
   "id": "905bc8d4",
   "metadata": {},
   "outputs": [
    {
     "data": {
      "text/plain": [
       "'hello'"
      ]
     },
     "execution_count": 4,
     "metadata": {},
     "output_type": "execute_result"
    }
   ],
   "source": [
    "d = {'k1':[1,2,3,{'tricky':['oh','man', 'inception', {'target':[1,2,3,'hello']}]}]}\n",
    "d['k1'][3]['tricky'][3]['target'][3]"
   ]
  },
  {
   "cell_type": "code",
   "execution_count": 5,
   "id": "37e5ea70",
   "metadata": {},
   "outputs": [],
   "source": [
    "#main different between tuple and a list\n",
    "#tuple is a immutable list meaning you can't insert or modify its value\n",
    "tuple1 = (1,2,3)\n"
   ]
  },
  {
   "cell_type": "code",
   "execution_count": 6,
   "id": "8b3c9953",
   "metadata": {},
   "outputs": [
    {
     "data": {
      "text/plain": [
       "'domain.com'"
      ]
     },
     "execution_count": 6,
     "metadata": {},
     "output_type": "execute_result"
    }
   ],
   "source": [
    "def domainGet(var):\n",
    "    s = var.split('@')\n",
    "    return s[1]\n",
    "\n",
    "\n",
    "domainGet('user@domain.com')"
   ]
  },
  {
   "cell_type": "code",
   "execution_count": 7,
   "id": "fbfe45fe",
   "metadata": {},
   "outputs": [
    {
     "data": {
      "text/plain": [
       "True"
      ]
     },
     "execution_count": 7,
     "metadata": {},
     "output_type": "execute_result"
    }
   ],
   "source": [
    "#reutn if dog exist in the string\n",
    "def findDog(input):\n",
    "    return 'dog' in input.split()\n",
    "\n",
    "findDog(\"Is there a dog here\")"
   ]
  },
  {
   "cell_type": "code",
   "execution_count": 8,
   "id": "5b5ffb72",
   "metadata": {},
   "outputs": [
    {
     "data": {
      "text/plain": [
       "3"
      ]
     },
     "execution_count": 8,
     "metadata": {},
     "output_type": "execute_result"
    }
   ],
   "source": [
    "#counting occuring time of dog in a string\n",
    "s ='this dog is dog better than dog'\n",
    "s.count('dog')\n"
   ]
  },
  {
   "cell_type": "code",
   "execution_count": 9,
   "id": "dacaabc8",
   "metadata": {},
   "outputs": [
    {
     "data": {
      "text/plain": [
       "['soup', 'salad']"
      ]
     },
     "execution_count": 9,
     "metadata": {},
     "output_type": "execute_result"
    }
   ],
   "source": [
    "seq = ['soup','dog','salad','cat','great']\n",
    "#use lamda expression\n",
    "#filter out word that dont start with s\n",
    "lambda_function = lambda input:  input.startswith('s')\n",
    "filterList =filter(lambda_function, seq)\n",
    "list(filterList)"
   ]
  },
  {
   "cell_type": "code",
   "execution_count": null,
   "id": "02fe05a5",
   "metadata": {},
   "outputs": [],
   "source": [
    "#return 1 of 3 possible result \"No Ticket\", \"Small Ticket\", \"Big Ticket\"\n",
    "#no <60, small bvetween 61 andd 80, big if over 81. Boolean true +5 in all case"
   ]
  },
  {
   "cell_type": "code",
   "execution_count": 21,
   "id": "deb138fb",
   "metadata": {},
   "outputs": [
    {
     "data": {
      "text/plain": [
       "'No Ticket'"
      ]
     },
     "execution_count": 21,
     "metadata": {},
     "output_type": "execute_result"
    }
   ],
   "source": [
    "def caught_speeding(speed, is_birthday):\n",
    "    if is_birthday:\n",
    "        speed = speed -5\n",
    "    \n",
    "    if speed < 60:\n",
    "        return \"No Ticket\"\n",
    "    elif speed >= 61 and speed <= 80:\n",
    "        return \"Small Ticket\"\n",
    "    else:\n",
    "        return \"Big Ticket\"\n",
    "    \n",
    "caught_speeding(61,True)\n"
   ]
  },
  {
   "cell_type": "code",
   "execution_count": 22,
   "id": "68b7d476",
   "metadata": {},
   "outputs": [
    {
     "data": {
      "text/plain": [
       "'Small Ticket'"
      ]
     },
     "execution_count": 22,
     "metadata": {},
     "output_type": "execute_result"
    }
   ],
   "source": [
    "caught_speeding(61, False)"
   ]
  },
  {
   "cell_type": "code",
   "execution_count": 24,
   "id": "964579e1",
   "metadata": {},
   "outputs": [
    {
     "data": {
      "text/plain": [
       "'Big Ticket'"
      ]
     },
     "execution_count": 24,
     "metadata": {},
     "output_type": "execute_result"
    }
   ],
   "source": [
    "caught_speeding(81, False)"
   ]
  },
  {
   "cell_type": "code",
   "execution_count": 25,
   "id": "01a18d6f",
   "metadata": {},
   "outputs": [
    {
     "data": {
      "text/plain": [
       "'The diameter of Earth is 12742 kilometers'"
      ]
     },
     "execution_count": 25,
     "metadata": {},
     "output_type": "execute_result"
    }
   ],
   "source": [
    "#use format() in String\n",
    "'The diameter of {} is {} kilometers'.format('Earth',12742)"
   ]
  },
  {
   "cell_type": "code",
   "execution_count": null,
   "id": "6411ff20",
   "metadata": {},
   "outputs": [],
   "source": []
  }
 ],
 "metadata": {
  "kernelspec": {
   "display_name": "Python 3 (ipykernel)",
   "language": "python",
   "name": "python3"
  },
  "language_info": {
   "codemirror_mode": {
    "name": "ipython",
    "version": 3
   },
   "file_extension": ".py",
   "mimetype": "text/x-python",
   "name": "python",
   "nbconvert_exporter": "python",
   "pygments_lexer": "ipython3",
   "version": "3.11.4"
  }
 },
 "nbformat": 4,
 "nbformat_minor": 5
}
