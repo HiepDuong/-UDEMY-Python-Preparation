{
 "cells": [
  {
   "cell_type": "code",
   "execution_count": 1,
   "id": "16542424",
   "metadata": {},
   "outputs": [],
   "source": [
    "#Numpy is linear algebra library for Python\n",
    "#numpy arrays come in 2 flavors: vectors and matrices\n",
    "#vectors: 1d array\n",
    "#matrix: 2 d array, can still have 1 row or 1 coluimn\n"
   ]
  },
  {
   "cell_type": "code",
   "execution_count": 3,
   "id": "c35ed41d",
   "metadata": {},
   "outputs": [
    {
     "data": {
      "text/plain": [
       "[1, 2, 3]"
      ]
     },
     "execution_count": 3,
     "metadata": {},
     "output_type": "execute_result"
    }
   ],
   "source": [
    "#Numpy SArrays\n",
    "my_list = [1,2,3]\n",
    "my_list"
   ]
  },
  {
   "cell_type": "code",
   "execution_count": 2,
   "id": "dbdd5407",
   "metadata": {},
   "outputs": [
    {
     "ename": "NameError",
     "evalue": "name 'my_list' is not defined",
     "output_type": "error",
     "traceback": [
      "\u001b[1;31m---------------------------------------------------------------------------\u001b[0m",
      "\u001b[1;31mNameError\u001b[0m                                 Traceback (most recent call last)",
      "Cell \u001b[1;32mIn[2], line 2\u001b[0m\n\u001b[0;32m      1\u001b[0m \u001b[38;5;28;01mimport\u001b[39;00m \u001b[38;5;21;01mnumpy\u001b[39;00m \u001b[38;5;28;01mas\u001b[39;00m \u001b[38;5;21;01mnp\u001b[39;00m\n\u001b[1;32m----> 2\u001b[0m np\u001b[38;5;241m.\u001b[39marray(my_list)\n",
      "\u001b[1;31mNameError\u001b[0m: name 'my_list' is not defined"
     ]
    }
   ],
   "source": [
    "import numpy as np\n",
    "np.array(my_list)\n",
    "#array as container for the list"
   ]
  },
  {
   "cell_type": "code",
   "execution_count": 3,
   "id": "ba95d4ff",
   "metadata": {},
   "outputs": [
    {
     "data": {
      "text/plain": [
       "array([[1, 2, 3],\n",
       "       [4, 5, 6],\n",
       "       [7, 8, 9]])"
      ]
     },
     "execution_count": 3,
     "metadata": {},
     "output_type": "execute_result"
    }
   ],
   "source": [
    "my_matrice = [[1,2,3],\n",
    "              [4,5,6],[7,8,9]]\n",
    "np.array(my_matrice)"
   ]
  },
  {
   "cell_type": "code",
   "execution_count": 4,
   "id": "e0e68258",
   "metadata": {},
   "outputs": [
    {
     "data": {
      "text/plain": [
       "1"
      ]
     },
     "execution_count": 4,
     "metadata": {},
     "output_type": "execute_result"
    }
   ],
   "source": [
    "#np.arrange() similar to range function\n",
    "np.arange(0,10) \n",
    "#up to but not including 10\n",
    "1 "
   ]
  },
  {
   "cell_type": "code",
   "execution_count": 5,
   "id": "df3c8068",
   "metadata": {},
   "outputs": [
    {
     "data": {
      "text/plain": [
       "array([ 0,  2,  4,  6,  8, 10])"
      ]
     },
     "execution_count": 5,
     "metadata": {},
     "output_type": "execute_result"
    }
   ],
   "source": [
    "\n",
    "#get even number, from 0 to 10 with step of 2\n",
    "np.arange(0,11,2)"
   ]
  },
  {
   "cell_type": "code",
   "execution_count": 6,
   "id": "c5bd8e52",
   "metadata": {},
   "outputs": [
    {
     "data": {
      "text/plain": [
       "array([[0., 0., 0., 0., 0.],\n",
       "       [0., 0., 0., 0., 0.],\n",
       "       [0., 0., 0., 0., 0.],\n",
       "       [0., 0., 0., 0., 0.],\n",
       "       [0., 0., 0., 0., 0.]])"
      ]
     },
     "execution_count": 6,
     "metadata": {},
     "output_type": "execute_result"
    }
   ],
   "source": [
    "#generate array of zeros 5x5 array\n",
    "np.zeros((5,5))"
   ]
  },
  {
   "cell_type": "code",
   "execution_count": 7,
   "id": "6782b65e",
   "metadata": {},
   "outputs": [
    {
     "data": {
      "text/plain": [
       "array([[1., 1., 1.],\n",
       "       [1., 1., 1.]])"
      ]
     },
     "execution_count": 7,
     "metadata": {},
     "output_type": "execute_result"
    }
   ],
   "source": [
    "#generate array of ones 2x3 arrays\n",
    "np.ones((2,3))"
   ]
  },
  {
   "cell_type": "code",
   "execution_count": 8,
   "id": "f0fe8380",
   "metadata": {},
   "outputs": [
    {
     "data": {
      "text/plain": [
       "array([0.  , 1.25, 2.5 , 3.75, 5.  ])"
      ]
     },
     "execution_count": 8,
     "metadata": {},
     "output_type": "execute_result"
    }
   ],
   "source": [
    "np.linspace(0,5,5)\n",
    "#print 1 bracket => 1 dimension\n",
    "#(start,stop, 10 evenly point)\n",
    "#srpead from start to stop with  "
   ]
  },
  {
   "cell_type": "code",
   "execution_count": 9,
   "id": "a4737100",
   "metadata": {},
   "outputs": [
    {
     "data": {
      "text/plain": [
       "array([[1., 0., 0., 0.],\n",
       "       [0., 1., 0., 0.],\n",
       "       [0., 0., 1., 0.],\n",
       "       [0., 0., 0., 1.]])"
      ]
     },
     "execution_count": 9,
     "metadata": {},
     "output_type": "execute_result"
    }
   ],
   "source": [
    "#create identity matrix\n",
    "np.eye(4)\n",
    "#diagonal of 1 and every thing else is 0, take 1 argument because it muist be a square"
   ]
  },
  {
   "cell_type": "code",
   "execution_count": 10,
   "id": "23aab4b3",
   "metadata": {},
   "outputs": [
    {
     "data": {
      "text/plain": [
       "array([0.06336086, 0.60661774, 0.32962025, 0.9669822 , 0.76131546])"
      ]
     },
     "execution_count": 10,
     "metadata": {},
     "output_type": "execute_result"
    }
   ],
   "source": [
    "#create arrays of random number\n",
    "# create a 1d array of random number\n",
    "np.random.rand(5)"
   ]
  },
  {
   "cell_type": "code",
   "execution_count": 12,
   "id": "104803af",
   "metadata": {},
   "outputs": [
    {
     "data": {
      "text/plain": [
       "array([[0.62436559, 0.86518053, 0.50433126, 0.10218285, 0.58829542],\n",
       "       [0.28409182, 0.28191394, 0.23549435, 0.43511788, 0.4119289 ],\n",
       "       [0.72544919, 0.00367668, 0.45082833, 0.71777272, 0.45998343],\n",
       "       [0.57226711, 0.50758885, 0.10876399, 0.65250196, 0.3720823 ]])"
      ]
     },
     "execution_count": 12,
     "metadata": {},
     "output_type": "execute_result"
    }
   ],
   "source": [
    "np.random.rand(4,5)\n",
    "#create random  number in a 4x5 matrices"
   ]
  },
  {
   "cell_type": "code",
   "execution_count": 15,
   "id": "f5f45ca1",
   "metadata": {},
   "outputs": [
    {
     "data": {
      "text/plain": [
       "array([76, 16, 26, 48, 26, 82, 50, 80, 83,  9, 70, 15, 39, 40, 37, 97, 97,\n",
       "        4, 43, 97, 80, 97, 40,  1, 43])"
      ]
     },
     "execution_count": 15,
     "metadata": {},
     "output_type": "execute_result"
    }
   ],
   "source": [
    "#randInt low >= input, high < input , size = size of array - vectors\n",
    "#randint(low, high)\n",
    "np.random.randint(1,100,25)\n",
    "#create an array of 25 elemnt random from >=1 to  < 100"
   ]
  },
  {
   "cell_type": "code",
   "execution_count": 17,
   "id": "99ea210c",
   "metadata": {},
   "outputs": [
    {
     "data": {
      "text/plain": [
       "array([ 0,  1,  2,  3,  4,  5,  6,  7,  8,  9, 10, 11, 12, 13, 14, 15, 16,\n",
       "       17, 18, 19, 20, 21, 22, 23, 24])"
      ]
     },
     "execution_count": 17,
     "metadata": {},
     "output_type": "execute_result"
    }
   ],
   "source": [
    "arr = np.arange(25)\n",
    "arr\n",
    "#generating array from to 25"
   ]
  },
  {
   "cell_type": "code",
   "execution_count": 19,
   "id": "aa39a9c3",
   "metadata": {},
   "outputs": [
    {
     "data": {
      "text/plain": [
       "array([26, 44, 29, 11, 38, 48, 12, 43,  7, 37])"
      ]
     },
     "execution_count": 19,
     "metadata": {},
     "output_type": "execute_result"
    }
   ],
   "source": [
    "rarr = np.random.randint(0,50,10)\n",
    "rarr"
   ]
  },
  {
   "cell_type": "code",
   "execution_count": 22,
   "id": "e267d189",
   "metadata": {},
   "outputs": [
    {
     "data": {
      "text/plain": [
       "array([[ 0,  1,  2,  3,  4],\n",
       "       [ 5,  6,  7,  8,  9],\n",
       "       [10, 11, 12, 13, 14],\n",
       "       [15, 16, 17, 18, 19],\n",
       "       [20, 21, 22, 23, 24]])"
      ]
     },
     "execution_count": 22,
     "metadata": {},
     "output_type": "execute_result"
    }
   ],
   "source": [
    "#reshape method, return array with new shap\n",
    "arr.reshape(5,5)\n",
    "#number of row * number of collumn = num of element\n",
    "#reshape into a 5x5 array\n",
    "#error if cant fill up completely\n"
   ]
  },
  {
   "cell_type": "code",
   "execution_count": 24,
   "id": "08dc1dc1",
   "metadata": {},
   "outputs": [
    {
     "data": {
      "text/plain": [
       "24"
      ]
     },
     "execution_count": 24,
     "metadata": {},
     "output_type": "execute_result"
    }
   ],
   "source": [
    "#find max value in array\n",
    "arr.max()"
   ]
  },
  {
   "cell_type": "code",
   "execution_count": 25,
   "id": "fbb9eda7",
   "metadata": {},
   "outputs": [
    {
     "data": {
      "text/plain": [
       "0"
      ]
     },
     "execution_count": 25,
     "metadata": {},
     "output_type": "execute_result"
    }
   ],
   "source": [
    "arr.min()"
   ]
  },
  {
   "cell_type": "code",
   "execution_count": 27,
   "id": "94a549a5",
   "metadata": {},
   "outputs": [
    {
     "data": {
      "text/plain": [
       "5"
      ]
     },
     "execution_count": 27,
     "metadata": {},
     "output_type": "execute_result"
    }
   ],
   "source": [
    "rarr.argmax() #l;ocation of max value"
   ]
  },
  {
   "cell_type": "code",
   "execution_count": 28,
   "id": "917da5ee",
   "metadata": {},
   "outputs": [
    {
     "data": {
      "text/plain": [
       "48"
      ]
     },
     "execution_count": 28,
     "metadata": {},
     "output_type": "execute_result"
    }
   ],
   "source": [
    "rarr.max()"
   ]
  },
  {
   "cell_type": "code",
   "execution_count": 30,
   "id": "8264e8d5",
   "metadata": {},
   "outputs": [
    {
     "data": {
      "text/plain": [
       "(25,)"
      ]
     },
     "execution_count": 30,
     "metadata": {},
     "output_type": "execute_result"
    }
   ],
   "source": [
    "arr.shape \n",
    "#arr is 1 dimennsional vector\n"
   ]
  },
  {
   "cell_type": "code",
   "execution_count": 33,
   "id": "966cb8af",
   "metadata": {},
   "outputs": [
    {
     "data": {
      "text/plain": [
       "(5, 5)"
      ]
     },
     "execution_count": 33,
     "metadata": {},
     "output_type": "execute_result"
    }
   ],
   "source": [
    "sarr = arr.reshape(5,5)\n",
    "sarr.shape\n"
   ]
  },
  {
   "cell_type": "code",
   "execution_count": null,
   "id": "2adeb39b",
   "metadata": {},
   "outputs": [],
   "source": []
  }
 ],
 "metadata": {
  "kernelspec": {
   "display_name": "Python 3 (ipykernel)",
   "language": "python",
   "name": "python3"
  },
  "language_info": {
   "codemirror_mode": {
    "name": "ipython",
    "version": 3
   },
   "file_extension": ".py",
   "mimetype": "text/x-python",
   "name": "python",
   "nbconvert_exporter": "python",
   "pygments_lexer": "ipython3",
   "version": "3.11.4"
  }
 },
 "nbformat": 4,
 "nbformat_minor": 5
}
