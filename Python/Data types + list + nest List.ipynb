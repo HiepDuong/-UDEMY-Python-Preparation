{
 "cells": [
  {
   "cell_type": "code",
   "execution_count": 1,
   "id": "832e1484",
   "metadata": {},
   "outputs": [
    {
     "data": {
      "text/plain": [
       "0"
      ]
     },
     "execution_count": 1,
     "metadata": {},
     "output_type": "execute_result"
    }
   ],
   "source": [
    "4% 2"
   ]
  },
  {
   "cell_type": "code",
   "execution_count": 2,
   "id": "33707535",
   "metadata": {},
   "outputs": [
    {
     "data": {
      "text/plain": [
       "1"
      ]
     },
     "execution_count": 2,
     "metadata": {},
     "output_type": "execute_result"
    }
   ],
   "source": [
    "5%2"
   ]
  },
  {
   "cell_type": "code",
   "execution_count": 3,
   "id": "a2ac8a40",
   "metadata": {},
   "outputs": [
    {
     "data": {
      "text/plain": [
       "2"
      ]
     },
     "execution_count": 3,
     "metadata": {},
     "output_type": "execute_result"
    }
   ],
   "source": [
    "vat=2\n",
    "vat"
   ]
  },
  {
   "cell_type": "code",
   "execution_count": 4,
   "id": "38c4ef39",
   "metadata": {},
   "outputs": [
    {
     "ename": "SyntaxError",
     "evalue": "invalid syntax (169742788.py, line 1)",
     "output_type": "error",
     "traceback": [
      "\u001b[1;36m  Cell \u001b[1;32mIn[4], line 1\u001b[1;36m\u001b[0m\n\u001b[1;33m    I cant go\u001b[0m\n\u001b[1;37m      ^\u001b[0m\n\u001b[1;31mSyntaxError\u001b[0m\u001b[1;31m:\u001b[0m invalid syntax\n"
     ]
    }
   ],
   "source": [
    "I cant go\n"
   ]
  },
  {
   "cell_type": "code",
   "execution_count": 5,
   "id": "87ed3ea7",
   "metadata": {},
   "outputs": [
    {
     "data": {
      "text/plain": [
       "'I cant go'"
      ]
     },
     "execution_count": 5,
     "metadata": {},
     "output_type": "execute_result"
    }
   ],
   "source": [
    "\"I cant go\""
   ]
  },
  {
   "cell_type": "code",
   "execution_count": 6,
   "id": "ea489601",
   "metadata": {},
   "outputs": [],
   "source": [
    "x =\"HELLO\""
   ]
  },
  {
   "cell_type": "code",
   "execution_count": 7,
   "id": "e943091d",
   "metadata": {},
   "outputs": [
    {
     "name": "stdout",
     "output_type": "stream",
     "text": [
      "HELLO\n"
     ]
    }
   ],
   "source": [
    "print(x)\n"
   ]
  },
  {
   "cell_type": "code",
   "execution_count": 8,
   "id": "8f0a362d",
   "metadata": {},
   "outputs": [
    {
     "data": {
      "text/plain": [
       "'mynumber is 2 and my name is HELLO'"
      ]
     },
     "execution_count": 8,
     "metadata": {},
     "output_type": "execute_result"
    }
   ],
   "source": [
    "\"mynumber is {} and my name is {}\".format(vat, x)"
   ]
  },
  {
   "cell_type": "code",
   "execution_count": 9,
   "id": "6dbc6ee8",
   "metadata": {},
   "outputs": [
    {
     "name": "stdout",
     "output_type": "stream",
     "text": [
      "mynumber is 2 and my name is HELLO\n"
     ]
    }
   ],
   "source": [
    "print(\"mynumber is {one} and my name is {two}\".format(one = vat, two = \n",
    "                                                      x))"
   ]
  },
  {
   "cell_type": "code",
   "execution_count": 10,
   "id": "cf4b400b",
   "metadata": {},
   "outputs": [
    {
     "data": {
      "text/plain": [
       "'H'"
      ]
     },
     "execution_count": 10,
     "metadata": {},
     "output_type": "execute_result"
    }
   ],
   "source": [
    "x[0]"
   ]
  },
  {
   "cell_type": "code",
   "execution_count": 11,
   "id": "ad76b72d",
   "metadata": {},
   "outputs": [
    {
     "data": {
      "text/plain": [
       "'ELLO'"
      ]
     },
     "execution_count": 11,
     "metadata": {},
     "output_type": "execute_result"
    }
   ],
   "source": [
    "x[1:]"
   ]
  },
  {
   "cell_type": "code",
   "execution_count": 12,
   "id": "0039de4a",
   "metadata": {},
   "outputs": [
    {
     "ename": "TypeError",
     "evalue": "string indices must be integers, not 'tuple'",
     "output_type": "error",
     "traceback": [
      "\u001b[1;31m---------------------------------------------------------------------------\u001b[0m",
      "\u001b[1;31mTypeError\u001b[0m                                 Traceback (most recent call last)",
      "Cell \u001b[1;32mIn[12], line 1\u001b[0m\n\u001b[1;32m----> 1\u001b[0m x[\u001b[38;5;241m3\u001b[39m,\u001b[38;5;241m5\u001b[39m]\n",
      "\u001b[1;31mTypeError\u001b[0m: string indices must be integers, not 'tuple'"
     ]
    }
   ],
   "source": [
    "x[3,5]"
   ]
  },
  {
   "cell_type": "code",
   "execution_count": 13,
   "id": "40403195",
   "metadata": {},
   "outputs": [
    {
     "data": {
      "text/plain": [
       "'HEL'"
      ]
     },
     "execution_count": 13,
     "metadata": {},
     "output_type": "execute_result"
    }
   ],
   "source": [
    "x[:3]\n"
   ]
  },
  {
   "cell_type": "code",
   "execution_count": 14,
   "id": "fd055e8f",
   "metadata": {},
   "outputs": [
    {
     "data": {
      "text/plain": [
       "'HEL'"
      ]
     },
     "execution_count": 14,
     "metadata": {},
     "output_type": "execute_result"
    }
   ],
   "source": [
    "x[0:3]"
   ]
  },
  {
   "cell_type": "code",
   "execution_count": 15,
   "id": "8d10751d",
   "metadata": {},
   "outputs": [
    {
     "data": {
      "text/plain": [
       "'L'"
      ]
     },
     "execution_count": 15,
     "metadata": {},
     "output_type": "execute_result"
    }
   ],
   "source": [
    "x[2:3]"
   ]
  },
  {
   "cell_type": "code",
   "execution_count": 16,
   "id": "1f11fd84",
   "metadata": {},
   "outputs": [],
   "source": [
    "my_list = ['a','a','b']"
   ]
  },
  {
   "cell_type": "code",
   "execution_count": null,
   "id": "36a7eebb",
   "metadata": {},
   "outputs": [],
   "source": []
  },
  {
   "cell_type": "code",
   "execution_count": null,
   "id": "b64fe7fb",
   "metadata": {},
   "outputs": [],
   "source": []
  },
  {
   "cell_type": "code",
   "execution_count": 19,
   "id": "3565fa42",
   "metadata": {},
   "outputs": [],
   "source": [
    "my_list.append('ada')"
   ]
  },
  {
   "cell_type": "code",
   "execution_count": 20,
   "id": "d096bb8f",
   "metadata": {},
   "outputs": [],
   "source": [
    "my_list[0] ='newACh'"
   ]
  },
  {
   "cell_type": "code",
   "execution_count": 21,
   "id": "c9ef533b",
   "metadata": {},
   "outputs": [],
   "source": [
    "nest_list = [1,2, [3,4]]"
   ]
  },
  {
   "cell_type": "code",
   "execution_count": 22,
   "id": "75f722aa",
   "metadata": {},
   "outputs": [
    {
     "data": {
      "text/plain": [
       "1"
      ]
     },
     "execution_count": 22,
     "metadata": {},
     "output_type": "execute_result"
    }
   ],
   "source": [
    "nest_list[0]"
   ]
  },
  {
   "cell_type": "code",
   "execution_count": null,
   "id": "ccf83b5f",
   "metadata": {},
   "outputs": [],
   "source": []
  },
  {
   "cell_type": "code",
   "execution_count": 24,
   "id": "b077a270",
   "metadata": {},
   "outputs": [
    {
     "data": {
      "text/plain": [
       "3"
      ]
     },
     "execution_count": 24,
     "metadata": {},
     "output_type": "execute_result"
    }
   ],
   "source": [
    "nest_list[2][0]"
   ]
  },
  {
   "cell_type": "code",
   "execution_count": null,
   "id": "1e5acc78",
   "metadata": {},
   "outputs": [],
   "source": []
  }
 ],
 "metadata": {
  "kernelspec": {
   "display_name": "Python 3 (ipykernel)",
   "language": "python",
   "name": "python3"
  },
  "language_info": {
   "codemirror_mode": {
    "name": "ipython",
    "version": 3
   },
   "file_extension": ".py",
   "mimetype": "text/x-python",
   "name": "python",
   "nbconvert_exporter": "python",
   "pygments_lexer": "ipython3",
   "version": "3.11.4"
  }
 },
 "nbformat": 4,
 "nbformat_minor": 5
}
